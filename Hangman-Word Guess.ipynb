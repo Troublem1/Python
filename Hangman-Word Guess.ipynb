{
 "cells": [
  {
   "cell_type": "markdown",
   "metadata": {},
   "source": [
    "### My implimentation"
   ]
  },
  {
   "cell_type": "code",
   "execution_count": 1,
   "metadata": {},
   "outputs": [],
   "source": [
    "import numpy as np\n",
    "\n",
    "\n",
    "def word_guess(secret_word):\n",
    "    secret_word = secret_word.upper()\n",
    "\n",
    "    INITIAL_GUESSES = 8\n",
    "    Guess = list(\"_\" * len(secret_word))\n",
    "    print(\"The word now looks like this :\", \"\".join(Guess))\n",
    "    print(\"You have 8 guesses left\")\n",
    "\n",
    "    count = 0\n",
    "    while count < INITIAL_GUESSES:\n",
    "\n",
    "        inp = input(\"Type a single letter here, then press enter: \")\n",
    "        inp = inp.upper()\n",
    "\n",
    "        if len(inp) > 1:\n",
    "            print(\"Guess should only be a single character.\")\n",
    "\n",
    "        elif inp not in secret_word:\n",
    "            print(\"There are no\", inp, \"'s in the word\")\n",
    "            count += 1\n",
    "\n",
    "        elif inp in secret_word:\n",
    "            boolean_locations = []\n",
    "            for i in secret_word:\n",
    "                boolean_locations.append(i == inp)\n",
    "            boolean_locations_array = np.array(boolean_locations)\n",
    "            word_array = np.array(list(secret_word))\n",
    "            number_of_inp_repetitions = len(word_array[boolean_locations_array])  # we now know how many repetitions\n",
    "\n",
    "            if number_of_inp_repetitions == 1:\n",
    "                print(\"That guess is correct\")\n",
    "                location = secret_word.find(inp)\n",
    "                Guess[location] = inp\n",
    "                print(\"The word now looks like this :\", \"\".join(Guess))\n",
    "                count += 1\n",
    "\n",
    "            if number_of_inp_repetitions > 1:\n",
    "                print(\"That guess is correct\")\n",
    "\n",
    "                indexes = [i for i, j in enumerate(boolean_locations) if j]\n",
    "                for i in indexes:\n",
    "                    Guess[i] = inp\n",
    "                print(\"The word now looks like this :\", \"\".join(Guess))\n",
    "                count += 1\n",
    "\n",
    "        if Guess == list(secret_word):\n",
    "            print(\"Congratulations, the word is: \",secret_word)\n",
    "            break\n",
    "        else:\n",
    "            print(\"You have \", INITIAL_GUESSES - count, \"Guess remaining.\")\n",
    "\n",
    "        if count==INITIAL_GUESSES:\n",
    "            print(\"Sorry, you lost. The secret word was :\",secret_word)"
   ]
  }
 ],
 "metadata": {
  "kernelspec": {
   "display_name": "Python 3",
   "language": "python",
   "name": "python3"
  },
  "language_info": {
   "codemirror_mode": {
    "name": "ipython",
    "version": 3
   },
   "file_extension": ".py",
   "mimetype": "text/x-python",
   "name": "python",
   "nbconvert_exporter": "python",
   "pygments_lexer": "ipython3",
   "version": "3.7.3"
  }
 },
 "nbformat": 4,
 "nbformat_minor": 2
}
